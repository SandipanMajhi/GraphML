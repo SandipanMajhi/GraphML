{
  "metadata": {
    "colab": {
      "provenance": [],
      "gpuType": "T4"
    },
    "kernelspec": {
      "name": "python3",
      "display_name": "Python 3",
      "language": "python"
    },
    "language_info": {
      "name": "python",
      "version": "3.10.14",
      "mimetype": "text/x-python",
      "codemirror_mode": {
        "name": "ipython",
        "version": 3
      },
      "pygments_lexer": "ipython3",
      "nbconvert_exporter": "python",
      "file_extension": ".py"
    },
    "accelerator": "GPU",
    "kaggle": {
      "accelerator": "gpu",
      "dataSources": [],
      "dockerImageVersionId": 30787,
      "isInternetEnabled": true,
      "language": "python",
      "sourceType": "notebook",
      "isGpuEnabled": true
    }
  },
  "nbformat_minor": 0,
  "nbformat": 4,
  "cells": [
    {
      "cell_type": "markdown",
      "source": [
        "## Name - Sandipan Majhi (24AI60R21), Aayush Sugandh (24AI60R04)\n",
        "## GML Assignment-4"
      ],
      "metadata": {
        "execution": {
          "iopub.status.busy": "2024-10-31T12:29:35.330719Z",
          "iopub.execute_input": "2024-10-31T12:29:35.331617Z",
          "iopub.status.idle": "2024-10-31T12:29:35.335544Z",
          "shell.execute_reply.started": "2024-10-31T12:29:35.331576Z",
          "shell.execute_reply": "2024-10-31T12:29:35.334555Z"
        },
        "id": "OhQZRBcPWC0Z"
      }
    },
    {
      "cell_type": "code",
      "source": [
        "!pip install -q pykeen"
      ],
      "metadata": {
        "colab": {
          "base_uri": "https://localhost:8080/"
        },
        "id": "Qc2uA0k1JOmv",
        "outputId": "2345b062-34b8-4ed6-f8ac-2dd146ee77ec",
        "execution": {
          "iopub.status.busy": "2024-10-31T09:59:04.775904Z",
          "iopub.execute_input": "2024-10-31T09:59:04.776241Z",
          "iopub.status.idle": "2024-10-31T09:59:20.386660Z",
          "shell.execute_reply.started": "2024-10-31T09:59:04.776203Z",
          "shell.execute_reply": "2024-10-31T09:59:20.385572Z"
        },
        "trusted": true
      },
      "execution_count": 1,
      "outputs": [
        {
          "output_type": "stream",
          "name": "stdout",
          "text": [
            "\u001b[2K     \u001b[90m━━━━━━━━━━━━━━━━━━━━━━━━━━━━━━━━━━━━━━━━\u001b[0m \u001b[32m85.5/85.5 kB\u001b[0m \u001b[31m4.3 MB/s\u001b[0m eta \u001b[36m0:00:00\u001b[0m\n",
            "\u001b[2K   \u001b[90m━━━━━━━━━━━━━━━━━━━━━━━━━━━━━━━━━━━━━━━━\u001b[0m \u001b[32m718.4/718.4 kB\u001b[0m \u001b[31m19.1 MB/s\u001b[0m eta \u001b[36m0:00:00\u001b[0m\n",
            "\u001b[2K   \u001b[90m━━━━━━━━━━━━━━━━━━━━━━━━━━━━━━━━━━━━━━━━\u001b[0m \u001b[32m362.8/362.8 kB\u001b[0m \u001b[31m24.5 MB/s\u001b[0m eta \u001b[36m0:00:00\u001b[0m\n",
            "\u001b[2K   \u001b[90m━━━━━━━━━━━━━━━━━━━━━━━━━━━━━━━━━━━━━━━━\u001b[0m \u001b[32m233.2/233.2 kB\u001b[0m \u001b[31m9.4 MB/s\u001b[0m eta \u001b[36m0:00:00\u001b[0m\n",
            "\u001b[2K   \u001b[90m━━━━━━━━━━━━━━━━━━━━━━━━━━━━━━━━━━━━━━━━\u001b[0m \u001b[32m49.5/49.5 kB\u001b[0m \u001b[31m4.3 MB/s\u001b[0m eta \u001b[36m0:00:00\u001b[0m\n",
            "\u001b[2K   \u001b[90m━━━━━━━━━━━━━━━━━━━━━━━━━━━━━━━━━━━━━━━━\u001b[0m \u001b[32m78.6/78.6 kB\u001b[0m \u001b[31m6.6 MB/s\u001b[0m eta \u001b[36m0:00:00\u001b[0m\n",
            "\u001b[?25h"
          ]
        }
      ]
    },
    {
      "cell_type": "code",
      "source": [
        "import torch\n",
        "import torch.nn as nn\n",
        "import torch.optim as optim\n",
        "import torch.nn.functional as F\n",
        "import numpy as np\n",
        "from tqdm import tqdm\n",
        "from pykeen.datasets import Nations, Kinships"
      ],
      "metadata": {
        "id": "ZmdHpEO8KSQ5",
        "execution": {
          "iopub.status.busy": "2024-10-31T09:59:24.629956Z",
          "iopub.execute_input": "2024-10-31T09:59:24.630687Z",
          "iopub.status.idle": "2024-10-31T09:59:28.994991Z",
          "shell.execute_reply.started": "2024-10-31T09:59:24.630631Z",
          "shell.execute_reply": "2024-10-31T09:59:28.994091Z"
        },
        "trusted": true,
        "colab": {
          "base_uri": "https://localhost:8080/"
        },
        "outputId": "22f20e73-e494-4d42-c73e-a5b80e4a46fb"
      },
      "execution_count": 2,
      "outputs": [
        {
          "output_type": "stream",
          "name": "stderr",
          "text": [
            "INFO:pykeen.utils:Using opt_einsum\n"
          ]
        }
      ]
    },
    {
      "cell_type": "markdown",
      "source": [
        "## Part 1 : Train TransE and TransR on Nations and Kinships dataset"
      ],
      "metadata": {
        "id": "-w4xn__CWC0e"
      }
    },
    {
      "cell_type": "code",
      "source": [
        "def extract_triples(triple):\n",
        "  return triple[0], triple[1], triple[2]\n"
      ],
      "metadata": {
        "id": "uCPpYH_qM1nN",
        "execution": {
          "iopub.status.busy": "2024-10-31T09:59:28.996491Z",
          "iopub.execute_input": "2024-10-31T09:59:28.996963Z",
          "iopub.status.idle": "2024-10-31T09:59:29.001524Z",
          "shell.execute_reply.started": "2024-10-31T09:59:28.996928Z",
          "shell.execute_reply": "2024-10-31T09:59:29.000487Z"
        },
        "trusted": true
      },
      "execution_count": 3,
      "outputs": []
    },
    {
      "cell_type": "code",
      "source": [
        "class TransE(nn.Module):\n",
        "  def __init__(self, num_entities, num_relations, embedding_dim, margin, norm):\n",
        "    super(TransE, self).__init__()\n",
        "\n",
        "    self.embeddings = nn.Embedding(num_entities, embedding_dim)\n",
        "    self.relation_embeddings = nn.Embedding(num_relations, embedding_dim)\n",
        "    self.margin = margin\n",
        "    self.norm = norm\n",
        "\n",
        "    nn.init.xavier_uniform_(self.embeddings.weight.data)\n",
        "    nn.init.xavier_uniform_(self.relation_embeddings.weight.data)\n",
        "\n",
        "  def forward(self, head, relation, tail):\n",
        "    head_embedding = self.embeddings(head)\n",
        "    relation_embedding = self.relation_embeddings(relation)\n",
        "    tail_embedding = self.embeddings(tail)\n",
        "\n",
        "    head_embedding = F.normalize(head_embedding, p=self.norm, dim=-1)\n",
        "    relation_embedding = F.normalize(relation_embedding, p=self.norm, dim=-1)\n",
        "    tail_embedding = F.normalize(tail_embedding, p=self.norm, dim=-1)\n",
        "\n",
        "    return head_embedding, relation_embedding, tail_embedding\n",
        "\n",
        "  def get_score(self, head_embedding, relation_embedding, tail_embedding):\n",
        "    return torch.norm(head_embedding + relation_embedding - tail_embedding, p=self.norm, dim=-1)\n",
        "\n",
        "  def get_embeddings(self, entity_id):\n",
        "    return self.embeddings[entity_id]"
      ],
      "metadata": {
        "id": "CiycVHqOMbuf",
        "execution": {
          "iopub.status.busy": "2024-10-31T09:59:29.002689Z",
          "iopub.execute_input": "2024-10-31T09:59:29.003055Z",
          "iopub.status.idle": "2024-10-31T09:59:29.037712Z",
          "shell.execute_reply.started": "2024-10-31T09:59:29.003014Z",
          "shell.execute_reply": "2024-10-31T09:59:29.036780Z"
        },
        "trusted": true
      },
      "execution_count": 4,
      "outputs": []
    },
    {
      "cell_type": "code",
      "source": [
        "class TransR(nn.Module):\n",
        "  def __init__(self, num_entities, num_relations, embedding_dim, margin, norm):\n",
        "    super(TransR, self).__init__()\n",
        "    self.embedding_dim = embedding_dim\n",
        "\n",
        "    self.embeddings = nn.Embedding(num_entities, embedding_dim)\n",
        "    self.relation_embeddings = nn.Embedding(num_relations, embedding_dim)\n",
        "    self.margin = margin\n",
        "    self.norm = norm\n",
        "\n",
        "    self.relation_proj = nn.Embedding(num_relations, embedding_dim * embedding_dim)\n",
        "\n",
        "    nn.init.xavier_uniform_(self.relation_proj.weight.data)\n",
        "    nn.init.xavier_uniform_(self.embeddings.weight.data)\n",
        "    nn.init.xavier_uniform_(self.relation_embeddings.weight.data)\n",
        "\n",
        "  def forward(self, head, relation, tail):\n",
        "    head_embedding = self.embeddings(head)\n",
        "    relation_embedding = self.relation_embeddings(relation)\n",
        "    tail_embedding = self.embeddings(tail)\n",
        "\n",
        "    rel_proj = self.relation_proj(relation).view(-1, self.embedding_dim, self.embedding_dim)\n",
        "\n",
        "    head_embedding = torch.bmm(self.relation_proj(relation).view(-1, self.embedding_dim, self.embedding_dim), head_embedding.unsqueeze(dim = 2))\n",
        "    tail_embedding = torch.bmm(self.relation_proj(relation).view(-1, self.embedding_dim, self.embedding_dim), tail_embedding.unsqueeze(dim = 2))\n",
        "\n",
        "    head_embedding = head_embedding.squeeze(dim = 2)\n",
        "    tail_embedding = tail_embedding.squeeze(dim = 2)\n",
        "\n",
        "    head_embedding = F.normalize(head_embedding, p=self.norm, dim=-1)\n",
        "    relation_embedding = F.normalize(relation_embedding, p=self.norm, dim=-1)\n",
        "    tail_embedding = F.normalize(tail_embedding, p=self.norm, dim=-1)\n",
        "\n",
        "    return head_embedding, relation_embedding, tail_embedding\n",
        "\n",
        "  def get_score(self, head_embedding, relation_embedding, tail_embedding):\n",
        "    return torch.norm(head_embedding + relation_embedding - tail_embedding, p=self.norm, dim=-1)\n",
        "\n",
        "  def get_embeddings(self, entity_id):\n",
        "    return self.embeddings[entity_id]"
      ],
      "metadata": {
        "id": "HNtI6TyQSWB0",
        "execution": {
          "iopub.status.busy": "2024-10-31T09:59:29.039510Z",
          "iopub.execute_input": "2024-10-31T09:59:29.039833Z",
          "iopub.status.idle": "2024-10-31T09:59:29.053265Z",
          "shell.execute_reply.started": "2024-10-31T09:59:29.039800Z",
          "shell.execute_reply": "2024-10-31T09:59:29.052423Z"
        },
        "trusted": true
      },
      "execution_count": 5,
      "outputs": []
    },
    {
      "cell_type": "code",
      "source": [
        "def get_probabilities(triples):\n",
        "  relations_probs = {}\n",
        "  relations_head_count = {}\n",
        "  relations_tail_count = {}\n",
        "  for triple in triples:\n",
        "    head, relation, tail = extract_triples(triple)\n",
        "    if relation not in relations_head_count:\n",
        "      relations_head_count[relation] = []\n",
        "\n",
        "    if relation not in relations_tail_count:\n",
        "      relations_tail_count[relation] = []\n",
        "\n",
        "    relations_head_count[relation].append(head)\n",
        "    relations_tail_count[relation].append(tail)\n",
        "\n",
        "  for k,v in relations_head_count.items():\n",
        "    if k not in relations_probs:\n",
        "      relations_probs[k] = {\n",
        "          \"avg_head_per_tail\": 0,\n",
        "          \"avg_tail_per_head\": 0\n",
        "      }\n",
        "\n",
        "    hpt = len(set(v)) / len(set(relations_tail_count[k]))\n",
        "    tph = len(set(relations_tail_count[k])) / len(set(v))\n",
        "\n",
        "    relations_probs[k][\"avg_head_per_tail\"] = hpt / (hpt + tph)\n",
        "    relations_probs[k][\"avg_tail_per_head\"] = tph / (hpt + tph)\n",
        "\n",
        "  return relations_probs, relations_head_count, relations_tail_count\n",
        "\n",
        "def bernoulli_negative_sample(triples, num_entities, num_samples = 1):\n",
        "  \"\"\"\n",
        "    We will sample one negative sample for one true sample\n",
        "  \"\"\"\n",
        "  probs = get_probabilities(triples)[0]\n",
        "  triples_with_negatives = []\n",
        "\n",
        "  for triple in triples:\n",
        "    head, relation, tail = extract_triples(triple)\n",
        "\n",
        "    for _ in range(num_samples):\n",
        "\n",
        "      if np.random.randint(1, 11) <= int(10 * probs[relation][\"avg_head_per_tail\"]):\n",
        "        neg_head = np.random.randint(0, num_entities)\n",
        "        negative_triple = [neg_head, relation, tail]\n",
        "\n",
        "        while negative_triple in triples_with_negatives or negative_triple in triples:\n",
        "          neg_head = np.random.randint(0, num_entities)\n",
        "          negative_triple = [neg_head, relation, tail]\n",
        "\n",
        "\n",
        "        triples_with_negatives.append((triple, negative_triple))\n",
        "\n",
        "      else :\n",
        "        neg_tail = np.random.randint(0, num_entities)\n",
        "        negative_triple = [head, relation, neg_tail]\n",
        "\n",
        "        while negative_triple in triples_with_negatives or negative_triple in triples:\n",
        "          neg_tail = np.random.randint(0, num_entities)\n",
        "          negative_triple = [head, relation, neg_tail]\n",
        "\n",
        "        triples_with_negatives.append((triple, negative_triple))\n",
        "\n",
        "  return triples_with_negatives"
      ],
      "metadata": {
        "id": "5dQBG_DdnX_l",
        "execution": {
          "iopub.status.busy": "2024-10-31T09:59:29.054965Z",
          "iopub.execute_input": "2024-10-31T09:59:29.055239Z",
          "iopub.status.idle": "2024-10-31T09:59:29.070130Z",
          "shell.execute_reply.started": "2024-10-31T09:59:29.055211Z",
          "shell.execute_reply": "2024-10-31T09:59:29.069233Z"
        },
        "trusted": true
      },
      "execution_count": 6,
      "outputs": []
    },
    {
      "cell_type": "code",
      "source": [
        "dataset = Nations()\n",
        "train_triples = dataset.training.mapped_triples.tolist()\n",
        "test_triples = dataset.testing.mapped_triples.tolist()\n",
        "num_entities = dataset.num_entities\n",
        "num_relations = dataset.num_relations\n",
        "\n",
        "train_triples = bernoulli_negative_sample(train_triples, num_entities)\n",
        "# test_triples = bernoulli_negative_sample(test_triples, num_entities)\n",
        "\n",
        "train_triples = torch.LongTensor(train_triples)\n",
        "test_triples = torch.LongTensor(test_triples)\n",
        "\n",
        "train_triples = torch.utils.data.TensorDataset(train_triples)\n",
        "test_triples = torch.utils.data.TensorDataset(test_triples)\n",
        "\n",
        "batch_size = 128\n",
        "\n",
        "nations_traindata = torch.utils.data.DataLoader(train_triples, batch_size=batch_size, shuffle=True)\n",
        "nations_testdata = torch.utils.data.DataLoader(test_triples, batch_size=batch_size, shuffle=False)"
      ],
      "metadata": {
        "id": "0IiJIenRB5cQ",
        "execution": {
          "iopub.status.busy": "2024-10-31T09:59:32.596274Z",
          "iopub.execute_input": "2024-10-31T09:59:32.596803Z",
          "iopub.status.idle": "2024-10-31T09:59:32.811787Z",
          "shell.execute_reply.started": "2024-10-31T09:59:32.596748Z",
          "shell.execute_reply": "2024-10-31T09:59:32.810720Z"
        },
        "trusted": true
      },
      "execution_count": 7,
      "outputs": []
    },
    {
      "cell_type": "code",
      "source": [
        "kdataset = Kinships()\n",
        "ktrain_triples = kdataset.training.mapped_triples.tolist()\n",
        "ktest_triples = kdataset.testing.mapped_triples.tolist()\n",
        "knum_entities = kdataset.num_entities\n",
        "knum_relations = kdataset.num_relations\n",
        "\n",
        "ktrain_triples = bernoulli_negative_sample(ktrain_triples, knum_entities, num_samples = 5)\n",
        "# ktest_triples = bernoulli_negative_sample(ktest_triples, knum_entities)\n",
        "\n",
        "ktrain_triples = torch.LongTensor(ktrain_triples)\n",
        "ktest_triples = torch.LongTensor(ktest_triples)\n",
        "\n",
        "batch_size = 512\n",
        "\n",
        "kinship_traindata = torch.utils.data.DataLoader(ktrain_triples, batch_size=batch_size, shuffle=True)\n",
        "kinship_testdata = torch.utils.data.DataLoader(ktest_triples, batch_size = batch_size, shuffle = False)"
      ],
      "metadata": {
        "id": "_6SqAP0R0J8f",
        "execution": {
          "iopub.status.busy": "2024-10-31T09:59:35.479723Z",
          "iopub.execute_input": "2024-10-31T09:59:35.480123Z",
          "iopub.status.idle": "2024-10-31T10:00:01.854659Z",
          "shell.execute_reply.started": "2024-10-31T09:59:35.480083Z",
          "shell.execute_reply": "2024-10-31T10:00:01.853736Z"
        },
        "trusted": true
      },
      "execution_count": 8,
      "outputs": []
    },
    {
      "cell_type": "code",
      "source": [
        "def loss_fn(pos_score, neg_score, margin):\n",
        "  return torch.mean(torch.relu(pos_score - neg_score + margin))"
      ],
      "metadata": {
        "id": "-K416aoWMziZ",
        "execution": {
          "iopub.status.busy": "2024-10-31T10:00:01.856178Z",
          "iopub.execute_input": "2024-10-31T10:00:01.856498Z",
          "iopub.status.idle": "2024-10-31T10:00:01.861026Z",
          "shell.execute_reply.started": "2024-10-31T10:00:01.856463Z",
          "shell.execute_reply": "2024-10-31T10:00:01.860090Z"
        },
        "trusted": true
      },
      "execution_count": 9,
      "outputs": []
    },
    {
      "cell_type": "code",
      "source": [
        "def train_Nations(model, optimizer, train_triples,\n",
        "                 batch_size, num_epochs, device):\n",
        "\n",
        "  training_history = {\n",
        "      \"loss\": [],\n",
        "      \"best_model\" : None\n",
        "  }\n",
        "\n",
        "  for epoch in range(num_epochs):\n",
        "    model.train()\n",
        "    total_loss = 0.0\n",
        "    for batch in train_triples:\n",
        "      optimizer.zero_grad()\n",
        "      pos_sample = batch[0][:,0].to(device)\n",
        "      neg_sample = batch[0][:,1].to(device)\n",
        "\n",
        "      pos_head, pos_relation, pos_tail = model(pos_sample[:,0], pos_sample[:,1], pos_sample[:,2])\n",
        "      neg_head, neg_relation, neg_tail = model(neg_sample[:,0], neg_sample[:,1], neg_sample[:,2])\n",
        "\n",
        "      pos_score = model.get_score(pos_head, pos_relation, pos_tail)\n",
        "      neg_score = model.get_score(neg_head, neg_relation, neg_tail)\n",
        "\n",
        "      loss = torch.mean(torch.relu(pos_score - neg_score + model.margin))\n",
        "      loss.backward()\n",
        "      optimizer.step()\n",
        "\n",
        "      total_loss += loss.item()\n",
        "\n",
        "    train_loss = total_loss / len(train_triples)\n",
        "    training_history[\"loss\"].append(train_loss)\n",
        "\n",
        "    if train_loss == min(training_history[\"loss\"]):\n",
        "      training_history[\"best_model\"] = model\n",
        "\n",
        "    # print(f\"Epoch {epoch+1}/{num_epochs} [1, 2, 3, 4, 5]---------------- Training Loss: {train_loss}\")\n",
        "\n",
        "  return training_history\n",
        "\n",
        "def train_Kinships(model, optimizer, train_triples,\n",
        "                 batch_size, num_epochs, device):\n",
        "\n",
        "  training_history = {\n",
        "      \"loss\": [],\n",
        "      \"best_model\" : None\n",
        "  }\n",
        "\n",
        "  for epoch in range(num_epochs):\n",
        "    model.train()\n",
        "    total_loss = 0.0\n",
        "    for batch in train_triples:\n",
        "      optimizer.zero_grad()\n",
        "      pos_sample = batch[:,0].to(device)\n",
        "      neg_sample = batch[:,1].to(device)\n",
        "\n",
        "      pos_head, pos_relation, pos_tail = model(pos_sample[:,0], pos_sample[:,1], pos_sample[:,2])\n",
        "      neg_head, neg_relation, neg_tail = model(neg_sample[:,0], neg_sample[:,1], neg_sample[:,2])\n",
        "\n",
        "      pos_score = model.get_score(pos_head, pos_relation, pos_tail)\n",
        "      neg_score = model.get_score(neg_head, neg_relation, neg_tail)\n",
        "\n",
        "      loss = torch.mean(torch.relu(pos_score - neg_score + model.margin))\n",
        "      loss.backward()\n",
        "      optimizer.step()\n",
        "\n",
        "      total_loss += loss.item()\n",
        "\n",
        "    train_loss = total_loss / len(train_triples)\n",
        "    training_history[\"loss\"].append(train_loss)\n",
        "\n",
        "    if train_loss == min(training_history[\"loss\"]):\n",
        "      training_history[\"best_model\"] = model\n",
        "\n",
        "    # print(f\"Epoch {epoch+1}/{num_epochs} [1, 2, 3, 4, 5]---------------- Training Loss: {train_loss}\")\n",
        "\n",
        "  return training_history\n",
        "\n"
      ],
      "metadata": {
        "id": "jnuHyjMfMXBe",
        "execution": {
          "iopub.status.busy": "2024-10-31T10:00:08.484589Z",
          "iopub.execute_input": "2024-10-31T10:00:08.485293Z",
          "iopub.status.idle": "2024-10-31T10:00:08.499487Z",
          "shell.execute_reply.started": "2024-10-31T10:00:08.485252Z",
          "shell.execute_reply": "2024-10-31T10:00:08.498578Z"
        },
        "trusted": true
      },
      "execution_count": 10,
      "outputs": []
    },
    {
      "cell_type": "code",
      "source": [
        "class RankBasedEvaluator:\n",
        "  def __init__(self, history, model, test_triples, num_entities, num_relations, margin = 1.0, dataset = \"Nations\", device = \"cpu\"):\n",
        "    self.model = model\n",
        "    self.test_triples = test_triples\n",
        "    self.device = device\n",
        "    self.dataset = dataset\n",
        "    self.history = history\n",
        "    self.num_entities = num_entities\n",
        "    self.num_relations = num_relations\n",
        "\n",
        "    self.margin = margin\n",
        "\n",
        "\n",
        "  def __call__(self):\n",
        "    self.load_best_model()\n",
        "    self.model.eval()\n",
        "    self.getallScores()\n",
        "\n",
        "  def load_best_model(self):\n",
        "    self.model.load_state_dict(self.history[self.dataset][self.margin][\"best_model\"].state_dict())\n",
        "    self.model.to(self.device)\n",
        "\n",
        "\n",
        "  def getallScores(self):\n",
        "    if self.dataset == \"Nations\":\n",
        "      correct_rank_heads, hits_heads = self._predict_heads_Nations()\n",
        "      correct_rank_tails, hits_tails = self._predict_tails_Nations()\n",
        "    else:\n",
        "      correct_rank_heads, hits_heads = self._predict_heads_Kinships()\n",
        "      correct_rank_tails, hits_tails = self._predict_tails_Kinships()\n",
        "\n",
        "\n",
        "    predictions = correct_rank_heads + correct_rank_tails\n",
        "    hits = hits_heads + hits_tails\n",
        "\n",
        "    print(f\"Mean Rank for margin {self.margin} = {sum(predictions)/len(predictions)}\")\n",
        "    print(f\"Hits@10 for margin {self.margin} = {sum(hits)/len(hits)}\")\n",
        "\n",
        "\n",
        "  def _predict_heads_Kinships(self):\n",
        "\n",
        "    correct_rank_heads = []\n",
        "    hits_within_10 = []\n",
        "\n",
        "\n",
        "    with torch.no_grad():\n",
        "      for batch in self.test_triples:\n",
        "        head_scores = torch.empty(batch.shape[0], self.num_entities)\n",
        "        sample = batch.to(self.device)\n",
        "\n",
        "        real_head = sample[:,0]\n",
        "        relation = sample[:,1]\n",
        "        tail = sample[:,2]\n",
        "\n",
        "        for entity in range(self.num_entities):\n",
        "          head = torch.full_like(relation, entity)\n",
        "          head_embedding, relation_embedding, tail_embedding = self.model(head, relation, tail)\n",
        "          score = self.model.get_score(head_embedding, relation_embedding, tail_embedding)\n",
        "          if entity not in head_scores:\n",
        "            head_scores[:,entity] = score\n",
        "\n",
        "        head_scores = torch.argsort(head_scores, dim = 1)\n",
        "\n",
        "        for i in range(real_head.shape[0]):\n",
        "          correct_rank_heads.append(head_scores[i, real_head[i]])\n",
        "          if head_scores[i, real_head[i]] <= 10:\n",
        "            hits_within_10.append(1)\n",
        "          else:\n",
        "            hits_within_10.append(0)\n",
        "\n",
        "    return correct_rank_heads, hits_within_10\n",
        "\n",
        "\n",
        "  def _predict_tails_Kinships(self):\n",
        "\n",
        "    correct_rank_tails = []\n",
        "    hits_within_10 = []\n",
        "\n",
        "    with torch.no_grad():\n",
        "      for batch in self.test_triples:\n",
        "        tail_scores = torch.empty(batch.shape[0], self.num_entities)\n",
        "        sample = batch.to(self.device)\n",
        "\n",
        "        relation = sample[:,1]\n",
        "        head = sample[:,0]\n",
        "        real_tail = sample[:,2]\n",
        "\n",
        "        for entity in range(self.num_entities):\n",
        "          tail = torch.full_like(relation, entity)\n",
        "          head_embedding, relation_embedding, tail_embedding = self.model(head, relation, tail)\n",
        "          score = self.model.get_score(head_embedding, relation_embedding, tail_embedding)\n",
        "          if entity not in tail_scores:\n",
        "            tail_scores[:,entity] = score\n",
        "\n",
        "        tail_scores = torch.argsort(tail_scores, dim = 1)\n",
        "        for i in range(real_tail.shape[0]):\n",
        "          correct_rank_tails.append(tail_scores[i, real_tail[i]])\n",
        "          if tail_scores[i, real_tail[i]] <= 10:\n",
        "            hits_within_10.append(1)\n",
        "          else:\n",
        "            hits_within_10.append(0)\n",
        "\n",
        "    return correct_rank_tails, hits_within_10\n",
        "\n",
        "  def _predict_heads_Nations(self):\n",
        "\n",
        "    correct_rank_heads = []\n",
        "    hits_within_10 = []\n",
        "\n",
        "    with torch.no_grad():\n",
        "      for batch in self.test_triples:\n",
        "        head_scores = torch.empty(batch[0].shape[0], self.num_entities)\n",
        "        sample = batch[0].to(self.device)\n",
        "\n",
        "        real_head = sample[:,0]\n",
        "        relation = sample[:,1]\n",
        "        tail = sample[:,2]\n",
        "\n",
        "        for entity in range(self.num_entities):\n",
        "          head = torch.full_like(relation, entity)\n",
        "          head_embedding, relation_embedding, tail_embedding = self.model(head, relation, tail)\n",
        "\n",
        "          score = self.model.get_score(head_embedding, relation_embedding, tail_embedding)\n",
        "          if entity not in head_scores:\n",
        "            head_scores[:,entity] = score\n",
        "\n",
        "        head_scores = torch.argsort(head_scores, dim = 1)\n",
        "\n",
        "        for i in range(real_head.shape[0]):\n",
        "          correct_rank_heads.append(head_scores[i, real_head[i]])\n",
        "          if head_scores[i, real_head[i]] <= 10:\n",
        "            hits_within_10.append(1)\n",
        "          else:\n",
        "            hits_within_10.append(0)\n",
        "\n",
        "    return correct_rank_heads, hits_within_10\n",
        "\n",
        "  def _predict_tails_Nations(self):\n",
        "    correct_rank_tails = []\n",
        "    hits_within_10 = []\n",
        "\n",
        "    with torch.no_grad():\n",
        "      for batch in self.test_triples:\n",
        "        tail_scores = torch.empty(batch[0].shape[0], self.num_entities)\n",
        "        sample = batch[0].to(self.device)\n",
        "\n",
        "        relation = sample[:,1]\n",
        "        head = sample[:,0]\n",
        "        real_tail = sample[:,2]\n",
        "\n",
        "        for entity in range(self.num_entities):\n",
        "          tail = torch.full_like(relation, entity)\n",
        "          head_embedding, relation_embedding, tail_embedding = self.model(head, relation, tail)\n",
        "\n",
        "          score = self.model.get_score(head_embedding, relation_embedding, tail_embedding)\n",
        "          if entity not in tail_scores:\n",
        "            tail_scores[:,entity] = score\n",
        "\n",
        "        tail_scores = torch.argsort(tail_scores, dim = 1)\n",
        "        for i in range(real_tail.shape[0]):\n",
        "          correct_rank_tails.append(tail_scores[i, real_tail[i]])\n",
        "          if tail_scores[i, real_tail[i]] <= 10:\n",
        "            hits_within_10.append(1)\n",
        "          else:\n",
        "            hits_within_10.append(0)\n",
        "\n",
        "    return correct_rank_tails, hits_within_10\n",
        "\n"
      ],
      "metadata": {
        "id": "EW3YNmyT6qLE",
        "execution": {
          "iopub.status.busy": "2024-10-31T10:00:20.628059Z",
          "iopub.execute_input": "2024-10-31T10:00:20.628899Z",
          "iopub.status.idle": "2024-10-31T10:00:20.661848Z",
          "shell.execute_reply.started": "2024-10-31T10:00:20.628852Z",
          "shell.execute_reply": "2024-10-31T10:00:20.660729Z"
        },
        "trusted": true
      },
      "execution_count": 11,
      "outputs": []
    },
    {
      "cell_type": "code",
      "source": [
        "device = \"cuda\" if torch.cuda.is_available() else \"cpu\"\n",
        "\n",
        "margins = [1, 2, 3, 4, 5]\n",
        "transE_models = {\n",
        "    \"Nations\" : {},\n",
        "    \"Kinship\" : {}\n",
        "}\n",
        "\n",
        "print(\"------------------- Training TransE Models on Nations Dataset -------------------\")\n",
        "\n",
        "for margin in tqdm(margins):\n",
        "  model = TransE(num_entities=num_entities, num_relations= num_relations, embedding_dim= 100, margin = margin, norm = 2)\n",
        "  model.to(device)\n",
        "\n",
        "  optimizer = optim.Adam(model.parameters(), lr=0.001)\n",
        "  num_epochs = 50\n",
        "  batch_size = 128\n",
        "\n",
        "  training_history = train_Nations(model, optimizer, nations_traindata, batch_size, num_epochs, device)\n",
        "  transE_models[\"Nations\"][margin] = training_history\n",
        "\n",
        "print(\"------------------- Training TransR Models on Nations Dataset -------------------\")\n",
        "transR_models = {\n",
        "    \"Nations\" : {},\n",
        "    \"Kinship\" : {}\n",
        "}\n",
        "\n",
        "for margin in tqdm(margins):\n",
        "  model = TransR(num_entities=num_entities, num_relations= num_relations, embedding_dim= 100, margin = margin, norm = 2)\n",
        "  model.to(device)\n",
        "\n",
        "  optimizer = optim.Adam(model.parameters(), lr=0.001)\n",
        "  num_epochs = 50\n",
        "  batch_size = 128\n",
        "  training_history = train_Nations(model, optimizer, nations_traindata, batch_size, num_epochs, device)\n",
        "  transR_models[\"Nations\"][margin] = training_history\n",
        "\n",
        "\n",
        "print(\"------------------- Training TransE Models on Kinship Dataset -------------------\")\n",
        "\n",
        "margins = [1,2,3,4,5]\n",
        "\n",
        "for margin in tqdm(margins):\n",
        "  model = TransE(num_entities=knum_entities, num_relations= knum_relations, embedding_dim= 100, margin = margin, norm = 2)\n",
        "  model.to(device)\n",
        "\n",
        "  optimizer = optim.Adam(model.parameters(), lr=0.001)\n",
        "  num_epochs = 50\n",
        "  batch_size = 512\n",
        "\n",
        "  training_history = train_Kinships(model, optimizer, kinship_traindata, batch_size, num_epochs, device)\n",
        "  transE_models[\"Kinship\"][margin] = training_history\n",
        "\n",
        "\n",
        "print(\"------------------- Training TransR Models on Kinship Dataset -------------------\")\n",
        "\n",
        "for margin in tqdm(margins):\n",
        "  model = TransR(num_entities=knum_entities, num_relations= knum_relations, embedding_dim= 100, margin = margin, norm = 2)\n",
        "  model.to(device)\n",
        "\n",
        "  optimizer = optim.Adam(model.parameters(), lr=0.001)\n",
        "  num_epochs = 50\n",
        "  batch_size = 512\n",
        "\n",
        "  training_history = train_Kinships(model, optimizer, kinship_traindata, batch_size, num_epochs, device)\n",
        "  transR_models[\"Kinship\"][margin] = training_history"
      ],
      "metadata": {
        "colab": {
          "base_uri": "https://localhost:8080/"
        },
        "id": "GIy0sqGPB4a-",
        "outputId": "2b2acc30-6ac0-44b9-b948-12edae828dda",
        "execution": {
          "iopub.status.busy": "2024-10-30T19:10:33.036540Z",
          "iopub.execute_input": "2024-10-30T19:10:33.037289Z",
          "iopub.status.idle": "2024-10-30T19:14:38.774307Z",
          "shell.execute_reply.started": "2024-10-30T19:10:33.037241Z",
          "shell.execute_reply": "2024-10-30T19:14:38.773242Z"
        },
        "trusted": true
      },
      "execution_count": 12,
      "outputs": [
        {
          "output_type": "stream",
          "name": "stdout",
          "text": [
            "------------------- Training TransE Models on Nations Dataset -------------------\n"
          ]
        },
        {
          "output_type": "stream",
          "name": "stderr",
          "text": [
            "100%|██████████| 5/5 [00:18<00:00,  3.65s/it]\n"
          ]
        },
        {
          "output_type": "stream",
          "name": "stdout",
          "text": [
            "------------------- Training TransR Models on Nations Dataset -------------------\n"
          ]
        },
        {
          "output_type": "stream",
          "name": "stderr",
          "text": [
            "100%|██████████| 5/5 [00:16<00:00,  3.26s/it]\n"
          ]
        },
        {
          "output_type": "stream",
          "name": "stdout",
          "text": [
            "------------------- Training TransE Models on Kinship Dataset -------------------\n"
          ]
        },
        {
          "output_type": "stream",
          "name": "stderr",
          "text": [
            "100%|██████████| 5/5 [01:52<00:00, 22.50s/it]\n"
          ]
        },
        {
          "output_type": "stream",
          "name": "stdout",
          "text": [
            "------------------- Training TransR Models on Kinship Dataset -------------------\n"
          ]
        },
        {
          "output_type": "stream",
          "name": "stderr",
          "text": [
            "100%|██████████| 5/5 [02:07<00:00, 25.60s/it]\n"
          ]
        }
      ]
    },
    {
      "cell_type": "code",
      "source": [
        "#### Plotting Training Losses #####\n",
        "import matplotlib.pyplot as plt\n",
        "fig, ax = plt.subplots(nrows = 3, ncols = 2,figsize = (10, 5))\n",
        "\n",
        "ax[0,0].plot(transE_models[\"Nations\"][1][\"loss\"], label = \"TransE\")\n",
        "ax[0,0].plot(transR_models[\"Nations\"][1][\"loss\"], label = \"TransR\")\n",
        "ax[0,0].set_title(\"Training Loss on Nations Dataset Margin = 1\")\n",
        "ax[0,0].set_xlabel(\"Epochs\")\n",
        "ax[0,0].set_ylabel(\"Loss\")\n",
        "ax[0,0].legend()\n",
        "\n",
        "ax[0,1].plot(transE_models[\"Nations\"][2][\"loss\"], label = \"TransE\")\n",
        "ax[0,1].plot(transR_models[\"Nations\"][2][\"loss\"], label = \"TransR\")\n",
        "ax[0,1].set_title(\"Training Loss on Nations Dataset Margin = 2\")\n",
        "ax[0,1].set_xlabel(\"Epochs\")\n",
        "ax[0,1].set_ylabel(\"Loss\")\n",
        "ax[0,1].legend()\n",
        "\n",
        "ax[1,0].plot(transE_models[\"Nations\"][3][\"loss\"], label = \"TransE\")\n",
        "ax[1,0].plot(transR_models[\"Nations\"][3][\"loss\"], label = \"TransR\")\n",
        "ax[1,0].set_title(\"Training Loss on Nations Dataset Margin = 3\")\n",
        "ax[1,0].set_xlabel(\"Epochs\")\n",
        "ax[1,0].set_ylabel(\"Loss\")\n",
        "ax[1,0].legend()\n",
        "\n",
        "ax[1,1].plot(transE_models[\"Nations\"][4][\"loss\"], label = \"TransE\")\n",
        "ax[1,1].plot(transR_models[\"Nations\"][4][\"loss\"], label = \"TransR\")\n",
        "ax[1,1].set_title(\"Training Loss on Nations Dataset Margin = 4\")\n",
        "ax[1,1].set_xlabel(\"Epochs\")\n",
        "ax[1,1].set_ylabel(\"Loss\")\n",
        "ax[1,1].legend()\n",
        "\n",
        "ax[2,0].plot(transE_models[\"Nations\"][5][\"loss\"], label = \"TransE\")\n",
        "ax[2,0].plot(transR_models[\"Nations\"][5][\"loss\"], label = \"TransR\")\n",
        "ax[2,0].set_title(\"Training Loss on Nations Dataset Margin = 5\")\n",
        "ax[2,0].set_xlabel(\"Epochs\")\n",
        "ax[2,0].set_ylabel(\"Loss\")\n",
        "ax[2,0].legend()\n",
        "\n",
        "fig.delaxes(ax[2,1])\n",
        "\n",
        "plt.tight_layout()\n",
        "\n",
        "plt.show()"
      ],
      "metadata": {
        "colab": {
          "base_uri": "https://localhost:8080/",
          "height": 506
        },
        "id": "nvs0Dozd4AbI",
        "outputId": "a0a2a5e7-b440-425d-e57a-2709e3f624e3",
        "execution": {
          "iopub.status.busy": "2024-10-30T19:14:44.471295Z",
          "iopub.execute_input": "2024-10-30T19:14:44.471677Z",
          "iopub.status.idle": "2024-10-30T19:14:44.900613Z",
          "shell.execute_reply.started": "2024-10-30T19:14:44.471643Z",
          "shell.execute_reply": "2024-10-30T19:14:44.899724Z"
        },
        "trusted": true
      },
      "execution_count": 13,
      "outputs": [
        {
          "output_type": "display_data",
          "data": {
            "text/plain": [
              "<Figure size 1000x500 with 5 Axes>"
            ],
            "image/png": "[encoded data removed]"
          },
          "metadata": {}
        }
      ]
    },
    {
      "cell_type": "code",
      "source": [
        "#### Plotting Training Losses #####\n",
        "import matplotlib.pyplot as plt\n",
        "fig, ax = plt.subplots(nrows = 3, ncols = 2,figsize = (10, 5))\n",
        "\n",
        "ax[0,0].plot(transE_models[\"Kinship\"][1][\"loss\"], label = \"TransE\")\n",
        "ax[0,0].plot(transR_models[\"Kinship\"][1][\"loss\"], label = \"TransR\")\n",
        "ax[0,0].set_title(\"Training Loss on Kinship Dataset Margin = 1\")\n",
        "ax[0,0].set_xlabel(\"Epochs\")\n",
        "ax[0,0].set_ylabel(\"Loss\")\n",
        "ax[0,0].legend()\n",
        "\n",
        "ax[0,1].plot(transE_models[\"Kinship\"][2][\"loss\"], label = \"TransE\")\n",
        "ax[0,1].plot(transR_models[\"Kinship\"][2][\"loss\"], label = \"TransR\")\n",
        "ax[0,1].set_title(\"Training Loss on Kinship Dataset Margin = 2\")\n",
        "ax[0,1].set_xlabel(\"Epochs\")\n",
        "ax[0,1].set_ylabel(\"Loss\")\n",
        "ax[0,1].legend()\n",
        "\n",
        "ax[1,0].plot(transE_models[\"Kinship\"][3][\"loss\"], label = \"TransE\")\n",
        "ax[1,0].plot(transR_models[\"Kinship\"][3][\"loss\"], label = \"TransR\")\n",
        "ax[1,0].set_title(\"Training Loss on Kinship Dataset Margin = 3\")\n",
        "ax[1,0].set_xlabel(\"Epochs\")\n",
        "ax[1,0].set_ylabel(\"Loss\")\n",
        "ax[1,0].legend()\n",
        "\n",
        "ax[1,1].plot(transE_models[\"Kinship\"][4][\"loss\"], label = \"TransE\")\n",
        "ax[1,1].plot(transR_models[\"Kinship\"][4][\"loss\"], label = \"TransR\")\n",
        "ax[1,1].set_title(\"Training Loss on Kinship Dataset Margin = 4\")\n",
        "ax[1,1].set_xlabel(\"Epochs\")\n",
        "ax[1,1].set_ylabel(\"Loss\")\n",
        "ax[1,1].legend()\n",
        "\n",
        "ax[2,0].plot(transE_models[\"Kinship\"][5][\"loss\"], label = \"TransE\")\n",
        "ax[2,0].plot(transR_models[\"Kinship\"][5][\"loss\"], label = \"TransR\")\n",
        "ax[2,0].set_title(\"Training Loss on Kinship Dataset Margin = 5\")\n",
        "ax[2,0].set_xlabel(\"Epochs\")\n",
        "ax[2,0].set_ylabel(\"Loss\")\n",
        "ax[2,0].legend()\n",
        "\n",
        "fig.delaxes(ax[2,1])\n",
        "\n",
        "plt.tight_layout()\n",
        "\n",
        "plt.show()"
      ],
      "metadata": {
        "colab": {
          "base_uri": "https://localhost:8080/",
          "height": 506
        },
        "id": "PI9RQ5dHXrLs",
        "outputId": "6389988f-2ef9-4e79-8ae8-4b84aef87f9f"
      },
      "execution_count": 14,
      "outputs": [
        {
          "output_type": "display_data",
          "data": {
            "text/plain": [
              "<Figure size 1000x500 with 5 Axes>"
            ],
            "image/png": "[encoded data removed]"
          },
          "metadata": {}
        }
      ]
    },
    {
      "cell_type": "code",
      "source": [
        "#### Evaluations on the Nations test set ####\n",
        "margins = [1, 2, 3, 4, 5]\n",
        "\n",
        "print(f\"------------- Evaluation on Nations Test Set -------------\")\n",
        "print(f\"------------- TransE Models -------------- \")\n",
        "\n",
        "for margin in margins:\n",
        "\n",
        "  print(f\"Margin = {margin}\")\n",
        "  model = TransE(num_entities=num_entities, num_relations= num_relations, embedding_dim= 100, margin = margin, norm = 2)\n",
        "  evaluator = RankBasedEvaluator(history=transE_models, model = model, test_triples = nations_testdata, num_entities = num_entities, num_relations = num_relations,\n",
        "                                 margin = margin, dataset = \"Nations\", device = device)\n",
        "\n",
        "  evaluator()\n",
        "\n",
        "print(f\"------------- TransR Models -------------- \")\n",
        "\n",
        "for margin in margins:\n",
        "\n",
        "  print(f\"Margin = {margin}\")\n",
        "  model = TransR(num_entities=num_entities, num_relations= num_relations, embedding_dim= 100, margin = margin, norm = 2)\n",
        "  evaluator = RankBasedEvaluator(history=transR_models, model = model, test_triples = nations_testdata, num_entities = num_entities, num_relations = num_relations,\n",
        "                                 margin = margin, dataset = \"Nations\", device = device)\n",
        "  evaluator()\n",
        "\n",
        "\n"
      ],
      "metadata": {
        "colab": {
          "base_uri": "https://localhost:8080/"
        },
        "id": "US6vgfm7NlO7",
        "outputId": "8fc39cc1-8d83-40d7-e0a5-fa8bf7909a0b",
        "execution": {
          "iopub.status.busy": "2024-10-30T19:14:49.657409Z",
          "iopub.execute_input": "2024-10-30T19:14:49.657800Z",
          "iopub.status.idle": "2024-10-30T19:14:50.216382Z",
          "shell.execute_reply.started": "2024-10-30T19:14:49.657762Z",
          "shell.execute_reply": "2024-10-30T19:14:50.215421Z"
        },
        "trusted": true
      },
      "execution_count": 15,
      "outputs": [
        {
          "output_type": "stream",
          "name": "stdout",
          "text": [
            "------------- Evaluation on Nations Test Set -------------\n",
            "------------- TransE Models -------------- \n",
            "Margin = 1\n",
            "Mean Rank for margin 1 = 6.129353046417236\n",
            "Hits@10 for margin 1 = 0.8283582089552238\n",
            "Margin = 2\n",
            "Mean Rank for margin 2 = 6.034825801849365\n",
            "Hits@10 for margin 2 = 0.8557213930348259\n",
            "Margin = 3\n",
            "Mean Rank for margin 3 = 6.405472755432129\n",
            "Hits@10 for margin 3 = 0.7835820895522388\n",
            "Margin = 4\n",
            "Mean Rank for margin 4 = 6.425373077392578\n",
            "Hits@10 for margin 4 = 0.8084577114427861\n",
            "Margin = 5\n",
            "Mean Rank for margin 5 = 6.313432693481445\n",
            "Hits@10 for margin 5 = 0.8159203980099502\n",
            "------------- TransR Models -------------- \n",
            "Margin = 1\n",
            "Mean Rank for margin 1 = 6.5472636222839355\n",
            "Hits@10 for margin 1 = 0.7835820895522388\n",
            "Margin = 2\n",
            "Mean Rank for margin 2 = 6.141790866851807\n",
            "Hits@10 for margin 2 = 0.8208955223880597\n",
            "Margin = 3\n",
            "Mean Rank for margin 3 = 6.248756408691406\n",
            "Hits@10 for margin 3 = 0.835820895522388\n",
            "Margin = 4\n",
            "Mean Rank for margin 4 = 6.363183975219727\n",
            "Hits@10 for margin 4 = 0.8208955223880597\n",
            "Margin = 5\n",
            "Mean Rank for margin 5 = 6.410447597503662\n",
            "Hits@10 for margin 5 = 0.8059701492537313\n"
          ]
        }
      ]
    },
    {
      "cell_type": "code",
      "source": [
        "#### Evaluations on the Kinships test set ####\n",
        "margins = [1,2,3,4,5]\n",
        "\n",
        "print(f\"------------- Evaluation on Kinships Test Set -------------\")\n",
        "print(f\"------------- TransE Models -------------- \")\n",
        "\n",
        "for margin in margins:\n",
        "\n",
        "  print(f\"Margin = {margin}\")\n",
        "  model = TransE(num_entities=knum_entities, num_relations= knum_relations, embedding_dim= 100, margin = margin, norm = 2)\n",
        "  evaluator = RankBasedEvaluator(history=transE_models, model = model, test_triples = kinship_testdata, num_entities = knum_entities, num_relations = knum_relations,\n",
        "                                 margin = margin, dataset = \"Kinship\", device = device)\n",
        "\n",
        "  evaluator()\n",
        "\n",
        "print()\n",
        "print(f\"------------- TransR Models -------------- \")\n",
        "\n",
        "for margin in margins:\n",
        "\n",
        "  print(f\"Margin = {margin}\")\n",
        "  model = TransR(num_entities=knum_entities, num_relations= knum_relations, embedding_dim= 100, margin = margin, norm = 2)\n",
        "  evaluator = RankBasedEvaluator(history=transR_models, model = model, test_triples = kinship_testdata, num_entities = knum_entities, num_relations = knum_relations,\n",
        "                                 margin = margin, dataset = \"Kinship\", device = device)\n",
        "  evaluator()\n",
        "\n",
        "\n"
      ],
      "metadata": {
        "colab": {
          "base_uri": "https://localhost:8080/"
        },
        "id": "lhRI09voNlK4",
        "outputId": "72332721-d2b4-4dc6-e98b-2e3d5ab6025e",
        "execution": {
          "iopub.status.busy": "2024-10-30T19:15:11.312647Z",
          "iopub.execute_input": "2024-10-30T19:15:11.313619Z",
          "iopub.status.idle": "2024-10-30T19:15:16.811580Z",
          "shell.execute_reply.started": "2024-10-30T19:15:11.313575Z",
          "shell.execute_reply": "2024-10-30T19:15:16.810638Z"
        },
        "trusted": true
      },
      "execution_count": 16,
      "outputs": [
        {
          "output_type": "stream",
          "name": "stdout",
          "text": [
            "------------- Evaluation on Kinships Test Set -------------\n",
            "------------- TransE Models -------------- \n",
            "Margin = 1\n",
            "Mean Rank for margin 1 = 50.53351974487305\n",
            "Hits@10 for margin 1 = 0.0935754189944134\n",
            "Margin = 2\n",
            "Mean Rank for margin 2 = 50.53584671020508\n",
            "Hits@10 for margin 2 = 0.10661080074487896\n",
            "Margin = 3\n",
            "Mean Rank for margin 3 = 48.65875244140625\n",
            "Hits@10 for margin 3 = 0.12243947858472998\n",
            "Margin = 4\n",
            "Mean Rank for margin 4 = 49.38221740722656\n",
            "Hits@10 for margin 4 = 0.10800744878957169\n",
            "Margin = 5\n",
            "Mean Rank for margin 5 = 49.38407897949219\n",
            "Hits@10 for margin 5 = 0.12150837988826815\n",
            "\n",
            "------------- TransR Models -------------- \n",
            "Margin = 1\n",
            "Mean Rank for margin 1 = 49.99906921386719\n",
            "Hits@10 for margin 1 = 0.10148975791433892\n",
            "Margin = 2\n",
            "Mean Rank for margin 2 = 50.36359405517578\n",
            "Hits@10 for margin 2 = 0.11266294227188083\n",
            "Margin = 3\n",
            "Mean Rank for margin 3 = 50.3351936340332\n",
            "Hits@10 for margin 3 = 0.10567970204841713\n",
            "Margin = 4\n",
            "Mean Rank for margin 4 = 50.864990234375\n",
            "Hits@10 for margin 4 = 0.11173184357541899\n",
            "Margin = 5\n",
            "Mean Rank for margin 5 = 50.08892059326172\n",
            "Hits@10 for margin 5 = 0.10800744878957169\n"
          ]
        }
      ]
    },
    {
      "cell_type": "markdown",
      "source": [
        "### Part 2 :  Similarity ###\n",
        "\n",
        "For this part we saw that for `Nations` dataset, for `TransE` best margin was `2` and for `TransR` best margin was `3`. So we would use these margins for our next part of the assignment."
      ],
      "metadata": {
        "id": "UJX_fP76NlHW"
      }
    },
    {
      "cell_type": "code",
      "source": [
        "def transform(triples, entity_dict, relation_dict):\n",
        "    validation_ids = []\n",
        "    for triple in triples:\n",
        "        tri_id = []\n",
        "        head = entity_dict[triple[0]]\n",
        "        relation = relation_dict[triple[1]]\n",
        "        tail = entity_dict[triple[2]]\n",
        "\n",
        "        tri_id.append(head)\n",
        "        tri_id.append(relation)\n",
        "        tri_id.append(tail)\n",
        "\n",
        "        validation_ids.append(tri_id)\n",
        "\n",
        "    return validation_ids\n",
        ""
      ],
      "metadata": {
        "execution": {
          "iopub.status.busy": "2024-10-31T10:00:36.240436Z",
          "iopub.execute_input": "2024-10-31T10:00:36.241375Z",
          "iopub.status.idle": "2024-10-31T10:00:36.247068Z",
          "shell.execute_reply.started": "2024-10-31T10:00:36.241331Z",
          "shell.execute_reply": "2024-10-31T10:00:36.245958Z"
        },
        "trusted": true,
        "id": "B2cbvYitWC0o"
      },
      "execution_count": 25,
      "outputs": []
    },
    {
      "cell_type": "code",
      "source": [
        "dataset = Nations()\n",
        "train_triples = dataset.training.mapped_triples.tolist()\n",
        "test_triples = dataset.testing.mapped_triples.tolist()\n",
        "num_entities = dataset.num_entities\n",
        "num_relations = dataset.num_relations\n",
        "\n",
        "train_triples = bernoulli_negative_sample(train_triples, num_entities)\n",
        "\n",
        "validation_triples = [\n",
        "    ['brazil', 'commonbloc1', 'india'],\n",
        "    ['burma', 'intergovorgs3', 'indonesia'],\n",
        "    ['china', 'accusation', 'uk'],\n",
        "    ['cuba', 'reldiplomacy', 'china'],\n",
        "    ['egypt', 'embassy', 'uk']\n",
        "]\n",
        "validation_triples = transform(validation_triples, dataset.entity_to_id, dataset.relation_to_id)\n",
        "# test_triples = bernoulli_negative_sample(test_triples, num_entities)\n",
        "\n",
        "train_triples = torch.LongTensor(train_triples)\n",
        "test_triples = torch.LongTensor(test_triples)\n",
        "validation_triples = torch.LongTensor(validation_triples)\n",
        "\n",
        "train_triples = torch.utils.data.TensorDataset(train_triples)\n",
        "test_triples = torch.utils.data.TensorDataset(test_triples)\n",
        "validation_triples = torch.utils.data.TensorDataset(validation_triples)\n",
        "\n",
        "batch_size = 128\n",
        "\n",
        "nations_traindata = torch.utils.data.DataLoader(train_triples, batch_size=batch_size, shuffle=True)\n",
        "nations_testdata = torch.utils.data.DataLoader(test_triples, batch_size=batch_size, shuffle=False)\n",
        "nations_validdata = torch.utils.data.DataLoader(validation_triples, batch_size = batch_size, shuffle = False)\n",
        "\n",
        "batch_size = 1\n",
        "nations_eval_traindata = torch.utils.data.DataLoader(train_triples, batch_size=batch_size, shuffle=False)\n",
        "nations_eval_validdata = torch.utils.data.DataLoader(validation_triples, batch_size = batch_size, shuffle = False)\n",
        "nations_eval_testdata = torch.utils.data.DataLoader(test_triples, batch_size = batch_size, shuffle = False)"
      ],
      "metadata": {
        "id": "lzD9mWQsNlDY",
        "execution": {
          "iopub.status.busy": "2024-10-31T12:35:30.785170Z",
          "iopub.execute_input": "2024-10-31T12:35:30.785535Z",
          "iopub.status.idle": "2024-10-31T12:35:30.970826Z",
          "shell.execute_reply.started": "2024-10-31T12:35:30.785501Z",
          "shell.execute_reply": "2024-10-31T12:35:30.969879Z"
        },
        "trusted": true
      },
      "execution_count": 26,
      "outputs": []
    },
    {
      "cell_type": "code",
      "source": [
        "print(\"------------------- Training TransE Models on Nations Dataset -------------------\")\n",
        "device = \"cuda\" if torch.cuda.is_available() else \"cpu\"\n",
        "\n",
        "similarity_models = {}\n",
        "\n",
        "model_transe = TransE(num_entities=num_entities, num_relations= num_relations, embedding_dim= 30, margin = 2, norm = 2)\n",
        "model_transe.to(device)\n",
        "\n",
        "optimizer = optim.Adam(model_transe.parameters(), lr=0.001)\n",
        "num_epochs = 50\n",
        "batch_size = 128\n",
        "\n",
        "training_history = train_Nations(model_transe, optimizer, nations_traindata, batch_size, num_epochs, device)\n",
        "similarity_models[\"transe\"] = training_history\n",
        "\n",
        "print(\"------------------- Training TransR Models on Nations Dataset -------------------\")\n",
        "model_transr = TransR(num_entities=num_entities, num_relations= num_relations, embedding_dim= 30, margin = 3, norm = 2)\n",
        "model_transr.to(device)\n",
        "\n",
        "optimizer2 = optim.Adam(model_transr.parameters(), lr=0.001)\n",
        "num_epochs = 50\n",
        "batch_size = 128\n",
        "training_history = train_Nations(model_transr, optimizer2, nations_traindata, batch_size, num_epochs, device)\n",
        "similarity_models[\"transr\"] = training_history"
      ],
      "metadata": {
        "id": "QTzkqxwdNk-r",
        "execution": {
          "iopub.status.busy": "2024-10-31T11:19:35.353016Z",
          "iopub.execute_input": "2024-10-31T11:19:35.353958Z",
          "iopub.status.idle": "2024-10-31T11:19:40.837616Z",
          "shell.execute_reply.started": "2024-10-31T11:19:35.353916Z",
          "shell.execute_reply": "2024-10-31T11:19:40.836829Z"
        },
        "trusted": true,
        "colab": {
          "base_uri": "https://localhost:8080/"
        },
        "outputId": "30721a95-40a8-4835-8dc4-59a9595b1ca9"
      },
      "execution_count": 27,
      "outputs": [
        {
          "output_type": "stream",
          "name": "stdout",
          "text": [
            "------------------- Training TransE Models on Nations Dataset -------------------\n",
            "------------------- Training TransR Models on Nations Dataset -------------------\n"
          ]
        }
      ]
    },
    {
      "cell_type": "code",
      "source": [
        "import torch.nn.functional as F\n",
        "\n",
        "class Similarity_matcher:\n",
        "    def __init__(self, model, validation_triples, train_triples, test_triples, entity_dict, relation_dict, topk = 5):\n",
        "\n",
        "        self.model = model\n",
        "        self.device = device\n",
        "        self.topk = topk\n",
        "\n",
        "        self.model.to(self.device)\n",
        "\n",
        "        self.validation_triples = validation_triples\n",
        "        self.train_triples = train_triples\n",
        "        self.test_triples = test_triples\n",
        "\n",
        "        self.entity_dict = {v:k for k,v in entity_dict.items()}\n",
        "        self.relation_dict = {v:k for k,v in relation_dict.items()}\n",
        "\n",
        "    def __call__(self):\n",
        "        self.get_similarity()\n",
        "        self.get_all_similar()\n",
        "\n",
        "    def get_all_similar(self):\n",
        "        for k,v in self.matches.items():\n",
        "            val_triple = self.inverse_transform(k)\n",
        "            print(f\"For validation triple = {val_triple} -------- top 5 triples in dataset -------\")\n",
        "            for j in v:\n",
        "                print(f\"{self.inverse_transform(j[0])} ------------- similarity score = {j[1].item()}\")\n",
        "\n",
        "            print(\"-------------------------------------------------------------\")\n",
        "\n",
        "    def inverse_transform(self, triple):\n",
        "        return [self.entity_dict[triple[0][0].item()], self.relation_dict[triple[0][1].item()], self.entity_dict[triple[0][2].item()]]\n",
        "\n",
        "    def get_similarity(self):\n",
        "        self.matches = {}\n",
        "\n",
        "        self.model.eval()\n",
        "        with torch.no_grad():\n",
        "            for batch in tqdm(self.validation_triples):\n",
        "                val_ = batch[0].to(self.device)\n",
        "                val_scores = {}\n",
        "                for batch2 in self.train_triples:\n",
        "\n",
        "                    tr_ = batch2[0][:,0].to(self.device)\n",
        "\n",
        "                    val_head, val_rel, val_tail = self.model(val_[:,0], val_[:,1], val_[:,2])\n",
        "                    tr_head, tr_rel, tr_tail = self.model(tr_[:,0], tr_[:,1], tr_[:,2])\n",
        "\n",
        "                    val_embed = torch.cat([val_head.squeeze(), val_rel.squeeze(), val_tail.squeeze()])\n",
        "                    tr_embed = torch.cat([tr_head.squeeze(), tr_rel.squeeze(), tr_tail.squeeze()])\n",
        "\n",
        "\n",
        "                    val_scores[tr_] =  F.cosine_similarity(val_embed.unsqueeze(dim = 0), tr_embed.unsqueeze(dim = 0))\n",
        "\n",
        "                if self.test_triples is not None:\n",
        "                    for batch3 in self.test_triples:\n",
        "\n",
        "                        tr_ = batch3[0].to(self.device)\n",
        "\n",
        "                        val_head, val_rel, val_tail = self.model(val_[:,0], val_[:,1], val_[:,2])\n",
        "                        tr_head, tr_rel, tr_tail = self.model(tr_[:,0], tr_[:,1], tr_[:,2])\n",
        "\n",
        "                        val_embed = torch.cat([val_head.squeeze(), val_rel.squeeze(), val_tail.squeeze()])\n",
        "                        tr_embed = torch.cat([tr_head.squeeze(), tr_rel.squeeze(), tr_tail.squeeze()])\n",
        "\n",
        "\n",
        "                        val_scores[tr_] =  F.cosine_similarity(val_embed.unsqueeze(dim = 0), tr_embed.unsqueeze(dim = 0))\n",
        "\n",
        "                val_scores = sorted(val_scores.items(), key=lambda x: x[1], reverse=True)\n",
        "                self.matches[val_] = val_scores[:self.topk]"
      ],
      "metadata": {
        "id": "XmSSd3PJNkFw",
        "execution": {
          "iopub.status.busy": "2024-10-31T13:08:17.508009Z",
          "iopub.execute_input": "2024-10-31T13:08:17.508398Z",
          "iopub.status.idle": "2024-10-31T13:08:17.527686Z",
          "shell.execute_reply.started": "2024-10-31T13:08:17.508360Z",
          "shell.execute_reply": "2024-10-31T13:08:17.526358Z"
        },
        "trusted": true
      },
      "execution_count": 28,
      "outputs": []
    },
    {
      "cell_type": "markdown",
      "source": [
        "## Searching Most similar to Validation triples only in Nations Train Set"
      ],
      "metadata": {
        "id": "l2kUfREXWC0q"
      }
    },
    {
      "cell_type": "code",
      "source": [
        "### Finding the top triples for validation set triples ###\n",
        "print(f\"----------Most similar triples for Validation Data in whole Nations Dataset (Train and Test set)---------\")\n",
        "print(f\"Using TransE Model with embedding_dim = 30\")\n",
        "\n",
        "sim_matcher = Similarity_matcher(model = model_transe, validation_triples = nations_eval_validdata,\n",
        "                                train_triples=nations_eval_traindata, test_triples = None, entity_dict = dataset.entity_to_id, relation_dict =  dataset.relation_to_id)\n",
        "sim_matcher()"
      ],
      "metadata": {
        "execution": {
          "iopub.status.busy": "2024-10-31T13:08:50.822020Z",
          "iopub.execute_input": "2024-10-31T13:08:50.822413Z",
          "iopub.status.idle": "2024-10-31T13:08:59.381721Z",
          "shell.execute_reply.started": "2024-10-31T13:08:50.822366Z",
          "shell.execute_reply": "2024-10-31T13:08:59.380780Z"
        },
        "trusted": true,
        "colab": {
          "base_uri": "https://localhost:8080/"
        },
        "id": "8u5juLKwWC0q",
        "outputId": "19bacb05-16e8-49d5-d8e1-58a7809b9d31"
      },
      "execution_count": 29,
      "outputs": [
        {
          "output_type": "stream",
          "name": "stdout",
          "text": [
            "----------Most similar triples for Validation Data in whole Nations Dataset (Train and Test set)---------\n",
            "Using TransE Model with embedding_dim = 30\n"
          ]
        },
        {
          "output_type": "stream",
          "name": "stderr",
          "text": [
            "100%|██████████| 5/5 [00:08<00:00,  1.73s/it]"
          ]
        },
        {
          "output_type": "stream",
          "name": "stdout",
          "text": [
            "For validation triple = ['brazil', 'commonbloc1', 'india'] -------- top 5 triples in dataset -------\n",
            "['netherlands', 'commonbloc1', 'india'] ------------- similarity score = 0.9853719472885132\n",
            "['uk', 'commonbloc1', 'india'] ------------- similarity score = 0.9770238399505615\n",
            "['india', 'commonbloc1', 'netherlands'] ------------- similarity score = 0.9745757579803467\n",
            "['india', 'commonbloc1', 'uk'] ------------- similarity score = 0.9708834290504456\n",
            "['india', 'commonbloc1', 'usa'] ------------- similarity score = 0.9687886834144592\n",
            "-------------------------------------------------------------\n",
            "For validation triple = ['burma', 'intergovorgs3', 'indonesia'] -------- top 5 triples in dataset -------\n",
            "['burma', 'relngo', 'indonesia'] ------------- similarity score = 0.9181936979293823\n",
            "['burma', 'exports3', 'indonesia'] ------------- similarity score = 0.8374428153038025\n",
            "['burma', 'relngo', 'cuba'] ------------- similarity score = 0.8136572241783142\n",
            "['burma', 'intergovorgs3', 'usa'] ------------- similarity score = 0.8006361722946167\n",
            "['burma', 'relintergovorgs', 'cuba'] ------------- similarity score = 0.7946186661720276\n",
            "-------------------------------------------------------------\n",
            "For validation triple = ['china', 'accusation', 'uk'] -------- top 5 triples in dataset -------\n",
            "['china', 'accusation', 'india'] ------------- similarity score = 0.9926055669784546\n",
            "['china', 'accusation', 'usa'] ------------- similarity score = 0.9739653468132019\n",
            "['china', 'accusation', 'ussr'] ------------- similarity score = 0.9134349822998047\n",
            "['indonesia', 'accusation', 'usa'] ------------- similarity score = 0.8984929323196411\n",
            "['cuba', 'accusation', 'usa'] ------------- similarity score = 0.8787842988967896\n",
            "-------------------------------------------------------------\n",
            "For validation triple = ['cuba', 'reldiplomacy', 'china'] -------- top 5 triples in dataset -------\n",
            "['cuba', 'exports3', 'china'] ------------- similarity score = 0.9446936845779419\n",
            "['cuba', 'reldiplomacy', 'indonesia'] ------------- similarity score = 0.924527645111084\n",
            "['indonesia', 'reldiplomacy', 'china'] ------------- similarity score = 0.8954635262489319\n",
            "['cuba', 'relexports', 'china'] ------------- similarity score = 0.8748619556427002\n",
            "['cuba', 'relintergovorgs', 'indonesia'] ------------- similarity score = 0.8617995977401733\n",
            "-------------------------------------------------------------\n",
            "For validation triple = ['egypt', 'embassy', 'uk'] -------- top 5 triples in dataset -------\n",
            "['egypt', 'embassy', 'india'] ------------- similarity score = 0.9926055669784546\n",
            "['egypt', 'embassy', 'netherlands'] ------------- similarity score = 0.9893769025802612\n",
            "['egypt', 'embassy', 'brazil'] ------------- similarity score = 0.9770238399505615\n",
            "['egypt', 'embassy', 'usa'] ------------- similarity score = 0.9739654064178467\n",
            "['egypt', 'embassy', 'poland'] ------------- similarity score = 0.9525667428970337\n",
            "-------------------------------------------------------------\n"
          ]
        },
        {
          "output_type": "stream",
          "name": "stderr",
          "text": [
            "\n"
          ]
        }
      ]
    },
    {
      "cell_type": "code",
      "source": [
        "### Finding the top triples for validation set triples ###\n",
        "print(f\"----------Most similar triples for Validation Data in whole Nations Dataset (Train and Test set)---------\")\n",
        "print(f\"Using TransR Model with embedding_dim = 30\")\n",
        "\n",
        "sim_matcher = Similarity_matcher(model = model_transr, validation_triples = nations_eval_validdata,\n",
        "                                train_triples=nations_eval_traindata, test_triples = None, entity_dict = dataset.entity_to_id, relation_dict =  dataset.relation_to_id)\n",
        "sim_matcher()"
      ],
      "metadata": {
        "execution": {
          "iopub.status.busy": "2024-10-31T13:09:40.315122Z",
          "iopub.execute_input": "2024-10-31T13:09:40.316138Z",
          "iopub.status.idle": "2024-10-31T13:09:51.540315Z",
          "shell.execute_reply.started": "2024-10-31T13:09:40.316081Z",
          "shell.execute_reply": "2024-10-31T13:09:51.539392Z"
        },
        "trusted": true,
        "colab": {
          "base_uri": "https://localhost:8080/"
        },
        "id": "z-D6411ZWC0q",
        "outputId": "d9a9f75e-43cd-474b-cb29-bbb161a0bc85"
      },
      "execution_count": 30,
      "outputs": [
        {
          "output_type": "stream",
          "name": "stdout",
          "text": [
            "----------Most similar triples for Validation Data in whole Nations Dataset (Train and Test set)---------\n",
            "Using TransR Model with embedding_dim = 30\n"
          ]
        },
        {
          "output_type": "stream",
          "name": "stderr",
          "text": [
            "100%|██████████| 5/5 [00:11<00:00,  2.31s/it]"
          ]
        },
        {
          "output_type": "stream",
          "name": "stdout",
          "text": [
            "For validation triple = ['brazil', 'commonbloc1', 'india'] -------- top 5 triples in dataset -------\n",
            "['jordan', 'commonbloc1', 'netherlands'] ------------- similarity score = 0.9285945296287537\n",
            "['brazil', 'commonbloc1', 'jordan'] ------------- similarity score = 0.8209508657455444\n",
            "['india', 'commonbloc1', 'netherlands'] ------------- similarity score = 0.8159899711608887\n",
            "['jordan', 'commonbloc1', 'uk'] ------------- similarity score = 0.8070959448814392\n",
            "['netherlands', 'commonbloc1', 'india'] ------------- similarity score = 0.8058505654335022\n",
            "-------------------------------------------------------------\n",
            "For validation triple = ['burma', 'intergovorgs3', 'indonesia'] -------- top 5 triples in dataset -------\n",
            "['burma', 'intergovorgs3', 'egypt'] ------------- similarity score = 0.9997460842132568\n",
            "['cuba', 'intergovorgs3', 'egypt'] ------------- similarity score = 0.9444657564163208\n",
            "['indonesia', 'intergovorgs3', 'egypt'] ------------- similarity score = 0.941648542881012\n",
            "['poland', 'intergovorgs3', 'egypt'] ------------- similarity score = 0.9414098858833313\n",
            "['burma', 'intergovorgs3', 'brazil'] ------------- similarity score = 0.8569348454475403\n",
            "-------------------------------------------------------------\n",
            "For validation triple = ['china', 'accusation', 'uk'] -------- top 5 triples in dataset -------\n",
            "['ussr', 'accusation', 'israel'] ------------- similarity score = 0.8475486040115356\n",
            "['china', 'accusation', 'india'] ------------- similarity score = 0.6684050559997559\n",
            "['india', 'accusation', 'uk'] ------------- similarity score = 0.6046541929244995\n",
            "['israel', 'accusation', 'jordan'] ------------- similarity score = 0.48960214853286743\n",
            "['china', 'accusation', 'indonesia'] ------------- similarity score = 0.4283430874347687\n",
            "-------------------------------------------------------------\n",
            "For validation triple = ['cuba', 'reldiplomacy', 'china'] -------- top 5 triples in dataset -------\n",
            "['egypt', 'reldiplomacy', 'china'] ------------- similarity score = 0.9983586668968201\n",
            "['brazil', 'reldiplomacy', 'egypt'] ------------- similarity score = 0.9933408498764038\n",
            "['egypt', 'reldiplomacy', 'brazil'] ------------- similarity score = 0.9866279363632202\n",
            "['egypt', 'reldiplomacy', 'cuba'] ------------- similarity score = 0.9845344424247742\n",
            "['cuba', 'reldiplomacy', 'ussr'] ------------- similarity score = 0.9808958172798157\n",
            "-------------------------------------------------------------\n",
            "For validation triple = ['egypt', 'embassy', 'uk'] -------- top 5 triples in dataset -------\n",
            "['egypt', 'embassy', 'poland'] ------------- similarity score = 0.9981014132499695\n",
            "['jordan', 'embassy', 'uk'] ------------- similarity score = 0.9938351511955261\n",
            "['indonesia', 'embassy', 'poland'] ------------- similarity score = 0.9827256202697754\n",
            "['usa', 'embassy', 'poland'] ------------- similarity score = 0.9587523937225342\n",
            "['usa', 'embassy', 'burma'] ------------- similarity score = 0.9586321115493774\n",
            "-------------------------------------------------------------\n"
          ]
        },
        {
          "output_type": "stream",
          "name": "stderr",
          "text": [
            "\n"
          ]
        }
      ]
    },
    {
      "cell_type": "markdown",
      "source": [
        "## Searching Most similar to Validation triples only in Nations Train Set and Test Set"
      ],
      "metadata": {
        "id": "PfDSatRuWC0r"
      }
    },
    {
      "cell_type": "code",
      "source": [
        "### Finding the top triples for validation set triples ###\n",
        "print(f\"----------Most similar triples for Validation Data in whole Nations Dataset (Train and Test set)---------\")\n",
        "print(f\"Using TransE Model with embedding_dim = 30\")\n",
        "\n",
        "sim_matcher = Similarity_matcher(model = model_transe, validation_triples = nations_eval_validdata,\n",
        "                                train_triples=nations_eval_traindata, test_triples = nations_eval_testdata, entity_dict = dataset.entity_to_id, relation_dict =  dataset.relation_to_id)\n",
        "sim_matcher()"
      ],
      "metadata": {
        "execution": {
          "iopub.status.busy": "2024-10-31T13:10:48.887858Z",
          "iopub.execute_input": "2024-10-31T13:10:48.888501Z",
          "iopub.status.idle": "2024-10-31T13:10:58.537243Z",
          "shell.execute_reply.started": "2024-10-31T13:10:48.888461Z",
          "shell.execute_reply": "2024-10-31T13:10:58.536315Z"
        },
        "trusted": true,
        "colab": {
          "base_uri": "https://localhost:8080/"
        },
        "id": "IyufnnobWC0r",
        "outputId": "fcce8fc8-a72a-4fe1-9e1a-fe36d1f7a0fc"
      },
      "execution_count": 31,
      "outputs": [
        {
          "output_type": "stream",
          "name": "stdout",
          "text": [
            "----------Most similar triples for Validation Data in whole Nations Dataset (Train and Test set)---------\n",
            "Using TransE Model with embedding_dim = 30\n"
          ]
        },
        {
          "output_type": "stream",
          "name": "stderr",
          "text": [
            "100%|██████████| 5/5 [00:09<00:00,  1.85s/it]"
          ]
        },
        {
          "output_type": "stream",
          "name": "stdout",
          "text": [
            "For validation triple = ['brazil', 'commonbloc1', 'india'] -------- top 5 triples in dataset -------\n",
            "['brazil', 'commonbloc1', 'india'] ------------- similarity score = 1.0000001192092896\n",
            "['netherlands', 'commonbloc1', 'india'] ------------- similarity score = 0.9853719472885132\n",
            "['uk', 'commonbloc1', 'india'] ------------- similarity score = 0.9770238399505615\n",
            "['india', 'commonbloc1', 'netherlands'] ------------- similarity score = 0.9745757579803467\n",
            "['india', 'commonbloc1', 'uk'] ------------- similarity score = 0.9708834290504456\n",
            "-------------------------------------------------------------\n",
            "For validation triple = ['burma', 'intergovorgs3', 'indonesia'] -------- top 5 triples in dataset -------\n",
            "['burma', 'intergovorgs3', 'indonesia'] ------------- similarity score = 1.0\n",
            "['burma', 'relngo', 'indonesia'] ------------- similarity score = 0.9181936979293823\n",
            "['burma', 'exports3', 'indonesia'] ------------- similarity score = 0.8374428153038025\n",
            "['burma', 'relngo', 'cuba'] ------------- similarity score = 0.8136572241783142\n",
            "['burma', 'reldiplomacy', 'indonesia'] ------------- similarity score = 0.8105694651603699\n",
            "-------------------------------------------------------------\n",
            "For validation triple = ['china', 'accusation', 'uk'] -------- top 5 triples in dataset -------\n",
            "['china', 'accusation', 'uk'] ------------- similarity score = 1.0\n",
            "['china', 'accusation', 'india'] ------------- similarity score = 0.9926055669784546\n",
            "['china', 'accusation', 'usa'] ------------- similarity score = 0.9739653468132019\n",
            "['indonesia', 'accusation', 'uk'] ------------- similarity score = 0.9245275855064392\n",
            "['china', 'accusation', 'ussr'] ------------- similarity score = 0.9134349822998047\n",
            "-------------------------------------------------------------\n",
            "For validation triple = ['cuba', 'reldiplomacy', 'china'] -------- top 5 triples in dataset -------\n",
            "['cuba', 'reldiplomacy', 'china'] ------------- similarity score = 1.0\n",
            "['cuba', 'exports3', 'china'] ------------- similarity score = 0.9446936845779419\n",
            "['cuba', 'reltreaties', 'china'] ------------- similarity score = 0.9321790933609009\n",
            "['cuba', 'reldiplomacy', 'indonesia'] ------------- similarity score = 0.924527645111084\n",
            "['indonesia', 'reldiplomacy', 'china'] ------------- similarity score = 0.8954635262489319\n",
            "-------------------------------------------------------------\n",
            "For validation triple = ['egypt', 'embassy', 'uk'] -------- top 5 triples in dataset -------\n",
            "['egypt', 'embassy', 'uk'] ------------- similarity score = 1.0\n",
            "['egypt', 'embassy', 'india'] ------------- similarity score = 0.9926055669784546\n",
            "['egypt', 'embassy', 'netherlands'] ------------- similarity score = 0.9893769025802612\n",
            "['egypt', 'embassy', 'brazil'] ------------- similarity score = 0.9770238399505615\n",
            "['egypt', 'embassy', 'usa'] ------------- similarity score = 0.9739654064178467\n",
            "-------------------------------------------------------------\n"
          ]
        },
        {
          "output_type": "stream",
          "name": "stderr",
          "text": [
            "\n"
          ]
        }
      ]
    },
    {
      "cell_type": "code",
      "source": [
        "### Finding the top triples for validation set triples ###\n",
        "print(f\"----------Most similar triples for Validation Data in whole Nations Dataset (Train and Test set)---------\")\n",
        "print(f\"Using TransR Model with embedding_dim = 30\")\n",
        "\n",
        "sim_matcher = Similarity_matcher(model = model_transr, validation_triples = nations_eval_validdata,\n",
        "                                train_triples=nations_eval_traindata, test_triples = nations_eval_testdata, entity_dict = dataset.entity_to_id, relation_dict =  dataset.relation_to_id)\n",
        "sim_matcher()"
      ],
      "metadata": {
        "execution": {
          "iopub.status.busy": "2024-10-31T13:11:11.149561Z",
          "iopub.execute_input": "2024-10-31T13:11:11.150433Z",
          "iopub.status.idle": "2024-10-31T13:11:23.841483Z",
          "shell.execute_reply.started": "2024-10-31T13:11:11.150389Z",
          "shell.execute_reply": "2024-10-31T13:11:23.840494Z"
        },
        "trusted": true,
        "colab": {
          "base_uri": "https://localhost:8080/"
        },
        "id": "7Itk56r_WC0r",
        "outputId": "31e5789c-942e-4eff-df58-1ee2ca6b266a"
      },
      "execution_count": 32,
      "outputs": [
        {
          "output_type": "stream",
          "name": "stdout",
          "text": [
            "----------Most similar triples for Validation Data in whole Nations Dataset (Train and Test set)---------\n",
            "Using TransR Model with embedding_dim = 30\n"
          ]
        },
        {
          "output_type": "stream",
          "name": "stderr",
          "text": [
            "100%|██████████| 5/5 [00:13<00:00,  2.69s/it]"
          ]
        },
        {
          "output_type": "stream",
          "name": "stdout",
          "text": [
            "For validation triple = ['brazil', 'commonbloc1', 'india'] -------- top 5 triples in dataset -------\n",
            "['brazil', 'commonbloc1', 'india'] ------------- similarity score = 1.0\n",
            "['jordan', 'commonbloc1', 'netherlands'] ------------- similarity score = 0.9285945296287537\n",
            "['brazil', 'commonbloc1', 'jordan'] ------------- similarity score = 0.8209508657455444\n",
            "['india', 'commonbloc1', 'netherlands'] ------------- similarity score = 0.8159899711608887\n",
            "['jordan', 'commonbloc1', 'uk'] ------------- similarity score = 0.8070959448814392\n",
            "-------------------------------------------------------------\n",
            "For validation triple = ['burma', 'intergovorgs3', 'indonesia'] -------- top 5 triples in dataset -------\n",
            "['burma', 'intergovorgs3', 'indonesia'] ------------- similarity score = 1.0\n",
            "['burma', 'intergovorgs3', 'egypt'] ------------- similarity score = 0.9997460842132568\n",
            "['cuba', 'intergovorgs3', 'egypt'] ------------- similarity score = 0.9444657564163208\n",
            "['indonesia', 'intergovorgs3', 'egypt'] ------------- similarity score = 0.941648542881012\n",
            "['poland', 'intergovorgs3', 'egypt'] ------------- similarity score = 0.9414098858833313\n",
            "-------------------------------------------------------------\n",
            "For validation triple = ['china', 'accusation', 'uk'] -------- top 5 triples in dataset -------\n",
            "['china', 'accusation', 'uk'] ------------- similarity score = 1.0\n",
            "['indonesia', 'accusation', 'uk'] ------------- similarity score = 0.8595005869865417\n",
            "['ussr', 'accusation', 'israel'] ------------- similarity score = 0.8475486040115356\n",
            "['china', 'accusation', 'india'] ------------- similarity score = 0.6684050559997559\n",
            "['india', 'accusation', 'uk'] ------------- similarity score = 0.6046541929244995\n",
            "-------------------------------------------------------------\n",
            "For validation triple = ['cuba', 'reldiplomacy', 'china'] -------- top 5 triples in dataset -------\n",
            "['cuba', 'reldiplomacy', 'china'] ------------- similarity score = 1.0\n",
            "['egypt', 'reldiplomacy', 'china'] ------------- similarity score = 0.9983586668968201\n",
            "['cuba', 'reldiplomacy', 'egypt'] ------------- similarity score = 0.9934901595115662\n",
            "['brazil', 'reldiplomacy', 'egypt'] ------------- similarity score = 0.9933408498764038\n",
            "['egypt', 'reldiplomacy', 'brazil'] ------------- similarity score = 0.9866279363632202\n",
            "-------------------------------------------------------------\n",
            "For validation triple = ['egypt', 'embassy', 'uk'] -------- top 5 triples in dataset -------\n",
            "['egypt', 'embassy', 'uk'] ------------- similarity score = 1.0000001192092896\n",
            "['egypt', 'embassy', 'poland'] ------------- similarity score = 0.9981014132499695\n",
            "['egypt', 'embassy', 'burma'] ------------- similarity score = 0.9979813098907471\n",
            "['jordan', 'embassy', 'uk'] ------------- similarity score = 0.9938351511955261\n",
            "['indonesia', 'embassy', 'poland'] ------------- similarity score = 0.9827256202697754\n",
            "-------------------------------------------------------------\n"
          ]
        },
        {
          "output_type": "stream",
          "name": "stderr",
          "text": [
            "\n"
          ]
        }
      ]
    },
    {
      "cell_type": "code",
      "source": [],
      "metadata": {
        "id": "dVm1O55BWC0s"
      },
      "execution_count": null,
      "outputs": []
    },
    {
      "cell_type": "code",
      "source": [],
      "metadata": {
        "id": "7lPRFmbbWC0s"
      },
      "execution_count": null,
      "outputs": []
    }
  ]
}